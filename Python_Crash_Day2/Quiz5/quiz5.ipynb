{
 "nbformat": 4,
 "nbformat_minor": 2,
 "metadata": {
  "language_info": {
   "name": "python",
   "codemirror_mode": {
    "name": "ipython",
    "version": 3
   },
   "version": "3.7.4-final"
  },
  "orig_nbformat": 2,
  "file_extension": ".py",
  "mimetype": "text/x-python",
  "name": "python",
  "npconvert_exporter": "python",
  "pygments_lexer": "ipython3",
  "version": 3,
  "kernelspec": {
   "name": "python3",
   "display_name": "Python 3"
  }
 },
 "cells": [
  {
   "cell_type": "code",
   "execution_count": 15,
   "metadata": {},
   "outputs": [
    {
     "name": "stdout",
     "output_type": "stream",
     "text": "ไม่สามารถสร้างรูปสามเหลี่ยมใดๆ ได้\n"
    }
   ],
   "source": [
    "def check_isTrigle(sides_length):\n",
    "    if( 0 in sides_length):return False\n",
    "    if(sides_length[0]+sides_length[1] >sides_length[2]):return True\n",
    "def check_right_angle(sides_length):\n",
    "    sides_length.sort()\n",
    "    if(check_isTrigle(sides_length)):\n",
    "        if(sides_length[0]*sides_length[0] + sides_length[1]*sides_length[1] == sides_length[2]*sides_length[2]):\n",
    "            print(\"สามารถสร้างสามเหลี่ยมมุมฉากได้\")\n",
    "        else:\n",
    "            print(\"ไม่สามารถสร้างสามเหลี่ยมมุมฉากได้\")\n",
    "    else:\n",
    "        print(\"ไม่สามารถสร้างรูปสามเหลี่ยมใดๆ ได้\")\n",
    "sides_length =[]\n",
    "sides_length.append(float(input(\"Side 1 :\")))\n",
    "sides_length.append(float(input(\"Side 2 :\")))\n",
    "sides_length.append(float(input(\"Side 3 :\")))\n",
    "check_isTrigle(sides_length);\n",
    "check_right_angle(sides_length)"
   ]
  }
 ]
}