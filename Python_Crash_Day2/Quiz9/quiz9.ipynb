{
 "cells": [
  {
   "cell_type": "code",
   "execution_count": 1,
   "metadata": {},
   "outputs": [
    {
     "name": "stdout",
     "output_type": "stream",
     "text": [
      "กรุณาใส่ค่าอาหารโดยค่าอาหารต้องไม่ต่ำกว่า 1000 และไม่เกิน 5000 บาท : 2500\n",
      "กรุณาใส่ค่าอาหารโดยค่าอาหารต้องไม่ต่ำกว่า 1000 และไม่เกิน 5000 บาท : 2500\n",
      "กรุณาใส่ค่าอาหารโดยค่าอาหารต้องไม่ต่ำกว่า 1000 และไม่เกิน 5000 บาท : 5000\n",
      "กรุณาใส่ค่าอาหารโดยค่าอาหารต้องไม่ต่ำกว่า 1000 และไม่เกิน 5000 บาท : 3960\n",
      "ยอดเงินที่ต้องจ่ายเท่ากับ 2772.0 บาท\n"
     ]
    }
   ],
   "source": [
    "cost = []\n",
    "while len(cost) < 4:\n",
    "    new_cost = float(input(\"กรุณาใส่ค่าอาหารโดยค่าอาหารต้องไม่ต่ำกว่า 1000 และไม่เกิน 5000 บาท : \"))\n",
    "    if(new_cost >=1000 and new_cost <=5000):\n",
    "        cost.append(new_cost)\n",
    "    else:\n",
    "        print(\"กรุณาใส่ค่าอาหารใหม่ ค่าอาหารต้องไม่ต่ำกว่า 1000 และไม่เกิน 5000 บาท\")\n",
    "\n",
    "\n",
    "# print(\"ยอดเงินรวมเท่ากับ : {}\".format(sum(cost)))\n",
    "if(sum(cost[:3]) > 9000):\n",
    "    print(\"ยอดเงินที่ต้องจ่ายเท่ากับ {} บาท\".format(cost[3] - cost[3]* 0.30)) \n",
    "elif(sum(cost[:3]) > 4000):\n",
    "    print(\"ยอดเงินที่ต้องจ่ายเท่ากับ {} บาท\".format(cost[3]  - cost[3]* 0.25)) \n",
    "else:\n",
    "    print(\"ยอดเงินที่ต้องจ่ายเท่ากับ {} บาท\".format(cost[3]))\n",
    "\n"
   ]
  }
 ],
 "metadata": {
  "kernelspec": {
   "display_name": "Python 3",
   "language": "python",
   "name": "python3"
  },
  "language_info": {
   "codemirror_mode": {
    "name": "ipython",
    "version": 3
   },
   "file_extension": ".py",
   "mimetype": "text/x-python",
   "name": "python",
   "nbconvert_exporter": "python",
   "pygments_lexer": "ipython3",
   "version": "3.7.4"
  }
 },
 "nbformat": 4,
 "nbformat_minor": 2
}
