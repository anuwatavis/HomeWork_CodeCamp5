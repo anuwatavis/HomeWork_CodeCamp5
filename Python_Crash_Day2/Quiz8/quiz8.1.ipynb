{
 "cells": [
  {
   "cell_type": "code",
   "execution_count": 14,
   "metadata": {},
   "outputs": [
    {
     "name": "stdout",
     "output_type": "stream",
     "text": [
      "กรุณาใส่ค่าอาหารโดยค่าอาหารต้องไม่ต่ำกว่า 1000 และไม่เกิน 5000 บาท : 2500\n",
      "กรุณาใส่ค่าอาหารโดยค่าอาหารต้องไม่ต่ำกว่า 1000 และไม่เกิน 5000 บาท : 5500\n",
      "กรุณาใส่ค่าอาหารใหม่ ค่าอาหารต้องไม่ต่ำกว่า 1000 และไม่เกิน 5000 บาท\n",
      "กรุณาใส่ค่าอาหารโดยค่าอาหารต้องไม่ต่ำกว่า 1000 และไม่เกิน 5000 บาท : 5000\n",
      "กรุณาใส่ค่าอาหารโดยค่าอาหารต้องไม่ต่ำกว่า 1000 และไม่เกิน 5000 บาท : 5000\n",
      "กรุณาใส่ค่าอาหารโดยค่าอาหารต้องไม่ต่ำกว่า 1000 และไม่เกิน 5000 บาท : 5000\n",
      "12500.0\n",
      "[2500.0, 5000.0, 5000.0, 5000.0]\n",
      "ยอดเงินที่ต้องจ่ายเท่ากับ 3750.0 บาท\n"
     ]
    }
   ],
   "source": [
    "cost = []\n",
    "while len(cost) < 4:\n",
    "    new_cost = float(input(\"กรุณาใส่ค่าอาหารโดยค่าอาหารต้องไม่ต่ำกว่า 1000 และไม่เกิน 5000 บาท : \"))\n",
    "    if(new_cost >=1000 and new_cost <=5000):\n",
    "        cost.append(new_cost)\n",
    "    else:\n",
    "        print(\"กรุณาใส่ค่าอาหารใหม่ ค่าอาหารต้องไม่ต่ำกว่า 1000 และไม่เกิน 5000 บาท\")\n",
    "\n",
    "\n",
    "# print(\"ยอดเงินรวมเท่ากับ : {}\".format(sum(cost)))\n",
    "if(sum(cost[:3]) > 12000):\n",
    "    print(\"ยอดเงินที่ต้องจ่ายเท่ากับ {} บาท\".format(cost[3] - cost[3]* 0.25)) \n",
    "elif(sum(cost[:3]) > 6000):\n",
    "    print(\"ยอดเงินที่ต้องจ่ายเท่ากับ {} บาท\".format(cost[3]  - cost[3]* 0.15)) \n",
    "else:\n",
    "    print(\"ยอดเงินที่ต้องจ่ายเท่ากับ {} บาท\".format(cost[3]))\n",
    "\n"
   ]
  },
  {
   "cell_type": "code",
   "execution_count": null,
   "metadata": {},
   "outputs": [],
   "source": []
  }
 ],
 "metadata": {
  "file_extension": ".py",
  "kernelspec": {
   "display_name": "Python 3",
   "language": "python",
   "name": "python3"
  },
  "language_info": {
   "codemirror_mode": {
    "name": "ipython",
    "version": 3
   },
   "file_extension": ".py",
   "mimetype": "text/x-python",
   "name": "python",
   "nbconvert_exporter": "python",
   "pygments_lexer": "ipython3",
   "version": "3.7.4"
  },
  "mimetype": "text/x-python",
  "name": "python",
  "npconvert_exporter": "python",
  "pygments_lexer": "ipython3",
  "version": 3
 },
 "nbformat": 4,
 "nbformat_minor": 2
}
