{
 "nbformat": 4,
 "nbformat_minor": 2,
 "metadata": {
  "language_info": {
   "name": "python",
   "codemirror_mode": {
    "name": "ipython",
    "version": 3
   },
   "version": "3.7.4-final"
  },
  "orig_nbformat": 2,
  "file_extension": ".py",
  "mimetype": "text/x-python",
  "name": "python",
  "npconvert_exporter": "python",
  "pygments_lexer": "ipython3",
  "version": 3,
  "kernelspec": {
   "name": "python3",
   "display_name": "Python 3"
  }
 },
 "cells": [
  {
   "cell_type": "code",
   "execution_count": 37,
   "metadata": {},
   "outputs": [
    {
     "name": "stdout",
     "output_type": "stream",
     "text": "[1.0, 2.0, 3.0, 4.0, 5.0, 6.0, 7.0, 8.0, 9.0, 10.0]\nAverage is : 5.5\n"
    }
   ],
   "source": [
    "number_input = float(input(\"Number : \"))\n",
    "number_lst = []\n",
    "number_lst.append(number_input)\n",
    "while number_input != 0:\n",
    "    number_input = float(input(\"Number : \"))\n",
    "    number_lst.append(number_input)\n",
    "del number_lst[-1] \n",
    "print(number_lst)\n",
    "print(\"Average is : {}\".format(sum(number_lst) / len(number_lst)))"
   ]
  }
 ]
}