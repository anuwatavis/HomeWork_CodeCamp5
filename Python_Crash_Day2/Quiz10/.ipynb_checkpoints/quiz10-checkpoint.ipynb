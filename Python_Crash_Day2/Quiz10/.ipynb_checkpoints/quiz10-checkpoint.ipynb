{
 "cells": [
  {
   "cell_type": "code",
   "execution_count": 25,
   "metadata": {},
   "outputs": [
    {
     "name": "stdout",
     "output_type": "stream",
     "text": [
      "กรุณาใส่ค่าอาหารโดยค่าอาหารต้องไม่ต่ำกว่า 1000 และไม่เกิน 5000 บาท : 5000\n",
      "กรุณาใส่ค่าอาหารโดยค่าอาหารต้องไม่ต่ำกว่า 1000 และไม่เกิน 5000 บาท : 5000\n",
      "กรุณาใส่ค่าอาหารโดยค่าอาหารต้องไม่ต่ำกว่า 1000 และไม่เกิน 5000 บาท : 5000\n",
      "กรุณาใส่ค่าอาหารโดยค่าอาหารต้องไม่ต่ำกว่า 1000 และไม่เกิน 5000 บาท : 5000\n",
      "มีบัตรเครดิจหรือไม่ : T/F : T\n",
      "ยอดเงินที่ต้องจ่ายเท่ากับ 3250.0 บาท\n"
     ]
    }
   ],
   "source": [
    "cost = []\n",
    "while len(cost) < 4:\n",
    "    new_cost = float(input(\"กรุณาใส่ค่าอาหารโดยค่าอาหารต้องไม่ต่ำกว่า 1000 และไม่เกิน 5000 บาท : \"))\n",
    "    if(new_cost >=1000 and new_cost <=5000):\n",
    "        cost.append(new_cost)\n",
    "    else:\n",
    "        print(\"กรุณาใส่ค่าอาหารใหม่ ค่าอาหารต้องไม่ต่ำกว่า 1000 และไม่เกิน 5000 บาท\")\n",
    "\n",
    "\n",
    "# print(\"ยอดเงินรวมเท่ากับ : {}\".format(sum(cost)))\n",
    "credit_card = (input(\"มีบัตรเครดิจหรือไม่ : T/F : \"))\n",
    "discount_credit = 0\n",
    "if(credit_card == 'T'):\n",
    "    discount_credit = 0.05\n",
    "else:\n",
    "    credit_card = False\n",
    "    discount_credit = 0\n",
    "if(sum(cost[:2]) > 9000):\n",
    "    print(\"ยอดเงินที่ต้องจ่ายเท่ากับ {} บาท\".format(cost[3] - cost[3]* (0.30 + discount_credit)))\n",
    "elif(sum(cost[:2]) > 4000):\n",
    "    print(\"ยอดเงินที่ต้องจ่ายเท่ากับ {} บาท\".format(cost[3]  - cost[3]* (0.25 + discount_credit )))\n",
    "else:\n",
    "    print(\"ยอดเงินที่ต้องจ่ายเท่ากับ {} บาท\".format(cost[3]))\n",
    "\n"
   ]
  },
  {
   "cell_type": "code",
   "execution_count": null,
   "metadata": {},
   "outputs": [],
   "source": []
  }
 ],
 "metadata": {
  "kernelspec": {
   "display_name": "Python 3",
   "language": "python",
   "name": "python3"
  },
  "language_info": {
   "codemirror_mode": {
    "name": "ipython",
    "version": 3
   },
   "file_extension": ".py",
   "mimetype": "text/x-python",
   "name": "python",
   "nbconvert_exporter": "python",
   "pygments_lexer": "ipython3",
   "version": "3.7.4"
  }
 },
 "nbformat": 4,
 "nbformat_minor": 2
}
