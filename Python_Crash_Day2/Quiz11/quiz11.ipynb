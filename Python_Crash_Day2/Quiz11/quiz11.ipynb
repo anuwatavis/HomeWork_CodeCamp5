{
 "cells": [
  {
   "cell_type": "code",
   "execution_count": 4,
   "metadata": {},
   "outputs": [
    {
     "name": "stdout",
     "output_type": "stream",
     "text": [
      "กรุณาใส่ตัวอักรอย่างน้อย 7 ตัวอักร : Anuwat Sukthong\n",
      "aNUWAT sUKTHONG\n"
     ]
    }
   ],
   "source": [
    "word = input(\"กรุณาใส่ตัวอักรอย่างน้อย 7 ตัวอักร : \")\n",
    "new_word = ''\n",
    "for c in word:\n",
    "    if(c.isupper()):\n",
    "        new_word += c.lower()\n",
    "    else:\n",
    "        new_word += c.upper()\n",
    "print(new_word)\n",
    "        "
   ]
  }
 ],
 "metadata": {
  "kernelspec": {
   "display_name": "Python 3",
   "language": "python",
   "name": "python3"
  },
  "language_info": {
   "codemirror_mode": {
    "name": "ipython",
    "version": 3
   },
   "file_extension": ".py",
   "mimetype": "text/x-python",
   "name": "python",
   "nbconvert_exporter": "python",
   "pygments_lexer": "ipython3",
   "version": "3.7.4"
  }
 },
 "nbformat": 4,
 "nbformat_minor": 2
}
