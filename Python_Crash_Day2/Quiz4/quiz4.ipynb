{
 "nbformat": 4,
 "nbformat_minor": 2,
 "metadata": {
  "language_info": {
   "name": "python",
   "codemirror_mode": {
    "name": "ipython",
    "version": 3
   },
   "version": "3.7.4-final"
  },
  "orig_nbformat": 2,
  "file_extension": ".py",
  "mimetype": "text/x-python",
  "name": "python",
  "npconvert_exporter": "python",
  "pygments_lexer": "ipython3",
  "version": 3,
  "kernelspec": {
   "name": "python3",
   "display_name": "Python 3"
  }
 },
 "cells": [
  {
   "cell_type": "code",
   "execution_count": 5,
   "metadata": {},
   "outputs": [
    {
     "name": "stdout",
     "output_type": "stream",
     "text": "หาร 7 ลงตัว\n"
    }
   ],
   "source": [
    "number_input = int(input(\"Number : \"))\n",
    "if(number_input % 7 == 0):\n",
    "    print(\"หาร 7 ลงตัว\")\n",
    "else:\n",
    "    print(\"หาร 7 ไม่ลงตัว\")"
   ]
  }
 ]
}