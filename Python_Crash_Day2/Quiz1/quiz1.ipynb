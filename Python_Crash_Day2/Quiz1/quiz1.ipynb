{
 "nbformat": 4,
 "nbformat_minor": 2,
 "metadata": {
  "language_info": {
   "name": "python",
   "codemirror_mode": {
    "name": "ipython",
    "version": 3
   },
   "version": "3.7.4-final"
  },
  "orig_nbformat": 2,
  "file_extension": ".py",
  "mimetype": "text/x-python",
  "name": "python",
  "npconvert_exporter": "python",
  "pygments_lexer": "ipython3",
  "version": 3,
  "kernelspec": {
   "name": "python3",
   "display_name": "Python 3"
  }
 },
 "cells": [
  {
   "source": [
    "number_input = int(input(\"input : \"))\n",
    "if number_input == 0:\n",
    "    print(\"เลขศูนย์\")\n",
    "else:\n",
    "    if(number_input % 2 == 0):\n",
    "        print(\"เลขคู่\")\n",
    "    else:\n",
    "        print(\"เลขคี่\")\n",
    ""
   ],
   "cell_type": "code",
   "outputs": [
    {
     "output_type": "stream",
     "name": "stdout",
     "text": "เลขศูนย์\n"
    }
   ],
   "metadata": {},
   "execution_count": 26
  }
 ]
}