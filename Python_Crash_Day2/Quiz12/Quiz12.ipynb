{
 "cells": [
  {
   "cell_type": "code",
   "execution_count": 11,
   "metadata": {},
   "outputs": [
    {
     "name": "stdout",
     "output_type": "stream",
     "text": [
      "Input 1:0\n",
      "Input 2:00\n",
      "Input 3:000\n",
      "Input 4:0000\n",
      "['0000', '000', '00', '0']\n"
     ]
    }
   ],
   "source": [
    "string_input = []\n",
    "string_input.append(input(\"Input 1:\"))\n",
    "string_input.append(input(\"Input 2:\"))\n",
    "string_input.append(input(\"Input 3:\"))\n",
    "string_input.append(input(\"Input 4:\"))\n",
    "sorted(string_input, key=len)\n",
    "string_input\n",
    "print(string_input[::-1])"
   ]
  }
 ],
 "metadata": {
  "kernelspec": {
   "display_name": "Python 3",
   "language": "python",
   "name": "python3"
  },
  "language_info": {
   "codemirror_mode": {
    "name": "ipython",
    "version": 3
   },
   "file_extension": ".py",
   "mimetype": "text/x-python",
   "name": "python",
   "nbconvert_exporter": "python",
   "pygments_lexer": "ipython3",
   "version": "3.7.4"
  }
 },
 "nbformat": 4,
 "nbformat_minor": 2
}
