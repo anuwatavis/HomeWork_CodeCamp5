{
 "cells": [
  {
   "cell_type": "markdown",
   "metadata": {},
   "source": [
    "ทำการสร้างสมการ\n",
    "    bird + cow = heads\n",
    "    2*bird + 4*cow = legs\n",
    "จะได้สมการในการจำนวนนก คือ\n",
    "   bird = -leg/2 + 2*heads"
   ]
  },
  {
   "cell_type": "code",
   "execution_count": 32,
   "metadata": {},
   "outputs": [
    {
     "name": "stdout",
     "output_type": "stream",
     "text": [
      "จำนวนหัว : 4\n",
      "จำนวนขา : 4\n",
      "ค่าที่กรอกไม่ถูกต้อง โปรดตรวจสอบอีกครั้ง\n"
     ]
    }
   ],
   "source": [
    "data = []\n",
    "data.append(int(input(\"จำนวนหัว : \")))\n",
    "data.append(int(input(\"จำนวนขา : \")))\n",
    "\n",
    "bird_count = (-1*data[1]/2) + (2*data[0])\n",
    "cow_count =  data[0]-bird_count\n",
    "if(bird_count <0 or cow_count <0):\n",
    "    print(\"ค่าที่กรอกไม่ถูกต้อง โปรดตรวจสอบอีกครั้ง\")\n",
    "elif(bird_count == 0 and cow_count == 0):\n",
    "    print(\"ค่าที่กรอกไม่ถูกต้อง โปรดตรวจสอบอีกครั้ง\")\n",
    "else:\n",
    "    print(\"จำนวนนก : {}\".format(bird_count))\n",
    "    print(\"จำนวนวัว : {}\".format(cow_count))\n",
    "    print(\"โรงงานต้องจ่ายภาษีเท่ากับ : {} บาท\".format(bird_count*150 + cow_count*220))"
   ]
  }
 ],
 "metadata": {
  "kernelspec": {
   "display_name": "Python 3",
   "language": "python",
   "name": "python3"
  },
  "language_info": {
   "codemirror_mode": {
    "name": "ipython",
    "version": 3
   },
   "file_extension": ".py",
   "mimetype": "text/x-python",
   "name": "python",
   "nbconvert_exporter": "python",
   "pygments_lexer": "ipython3",
   "version": "3.7.4"
  }
 },
 "nbformat": 4,
 "nbformat_minor": 2
}
