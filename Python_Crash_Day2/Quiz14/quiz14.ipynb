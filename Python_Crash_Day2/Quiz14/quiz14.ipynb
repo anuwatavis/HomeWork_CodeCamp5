{
 "cells": [
  {
   "cell_type": "code",
   "execution_count": 31,
   "metadata": {},
   "outputs": [
    {
     "name": "stdout",
     "output_type": "stream",
     "text": [
      "Hour (0-60) : 2\n",
      "Second (0-60) : 60\n",
      "รวมเวลาจอดทั้งหมดเท่ากับ 2 ชั่วโมง (ไม่รวมชั่วโมงแรก)\n",
      "ค่าที่จอดรถเท่ากับ : 600 \n"
     ]
    }
   ],
   "source": [
    "hour = int(input(\"Hour (0-60) : \"))\n",
    "second = int(input(\"Second (0-60) : \"))\n",
    "result_hour = 0\n",
    "result_second = 0\n",
    "if(second > 15):\n",
    "    hour+= 1\n",
    "else:\n",
    "    hour = hour\n",
    "    \n",
    "if(hour <=1):\n",
    "    result_hour = 0\n",
    "else:\n",
    "    result_hour = hour-1\n",
    "     \n",
    "result = result_hour*300\n",
    "print(\"รวมเวลาจอดทั้งหมดเท่ากับ {} ชั่วโมง (ไม่รวมชั่วโมงแรก)\".format(result_hour))\n",
    "print(\"ค่าที่จอดรถเท่ากับ : {} \".format(result))\n"
   ]
  }
 ],
 "metadata": {
  "kernelspec": {
   "display_name": "Python 3",
   "language": "python",
   "name": "python3"
  },
  "language_info": {
   "codemirror_mode": {
    "name": "ipython",
    "version": 3
   },
   "file_extension": ".py",
   "mimetype": "text/x-python",
   "name": "python",
   "nbconvert_exporter": "python",
   "pygments_lexer": "ipython3",
   "version": "3.7.4"
  }
 },
 "nbformat": 4,
 "nbformat_minor": 2
}
