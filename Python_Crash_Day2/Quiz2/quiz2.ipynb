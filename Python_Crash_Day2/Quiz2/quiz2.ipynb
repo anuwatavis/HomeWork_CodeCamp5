{
 "nbformat": 4,
 "nbformat_minor": 2,
 "metadata": {
  "language_info": {
   "name": "python",
   "codemirror_mode": {
    "name": "ipython",
    "version": 3
   },
   "version": "3.7.4-final"
  },
  "orig_nbformat": 2,
  "file_extension": ".py",
  "mimetype": "text/x-python",
  "name": "python",
  "npconvert_exporter": "python",
  "pygments_lexer": "ipython3",
  "version": 3,
  "kernelspec": {
   "name": "python3",
   "display_name": "Python 3"
  }
 },
 "cells": [
  {
   "cell_type": "code",
   "execution_count": 11,
   "metadata": {},
   "outputs": [
    {
     "name": "stdout",
     "output_type": "stream",
     "text": "dividend :  0.0\ndivisor :  1.0\n0.0\n"
    }
   ],
   "source": [
    "dividend = float(input(\"Dividend :\"))\n",
    "divisor = float(input(\"Divisor : \"))\n",
    "while divisor == 0:\n",
    "    divisor = float(input(\"Divisor : \"))\n",
    "print(\"dividend : \" ,dividend)\n",
    "print(\"divisor : \" ,divisor)\n",
    "result = dividend / divisor\n",
    "print(result)"
   ]
  }
 ]
}