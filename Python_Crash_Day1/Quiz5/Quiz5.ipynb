{
 "nbformat": 4,
 "nbformat_minor": 2,
 "metadata": {
  "language_info": {
   "name": "python",
   "codemirror_mode": {
    "name": "ipython",
    "version": 3
   },
   "version": "3.7.4-final"
  },
  "orig_nbformat": 2,
  "file_extension": ".py",
  "mimetype": "text/x-python",
  "name": "python",
  "npconvert_exporter": "python",
  "pygments_lexer": "ipython3",
  "version": 3,
  "kernelspec": {
   "name": "python3",
   "display_name": "Python 3"
  }
 },
 "cells": [
  {
   "cell_type": "code",
   "execution_count": 1,
   "metadata": {},
   "outputs": [
    {
     "name": "stdout",
     "output_type": "stream",
     "text": "[1, 8, 27, 64, 125, 216, 343, 512, 729, 1000]\n[1, 8, 27, 64, 125, 216, 343, 512, 729, 1000]\n"
    }
   ],
   "source": [
    "#QUIT 5.1\n",
    "lst = [1, 2, 3, 4, 5, 6, 7, 8, 9, 10]\n",
    "final_lst1 = map(lambda x: x*x*x, lst)\n",
    "print(list(final_lst1))\n",
    "\n",
    "def thirdPower(x) :\n",
    "    return x*x*x\n",
    "\n",
    "final_lst2 = map(thirdPower, lst)\n",
    "print(list(final_lst2))"
   ]
  },
  {
   "cell_type": "code",
   "execution_count": 2,
   "metadata": {},
   "outputs": [
    {
     "name": "stdout",
     "output_type": "stream",
     "text": "[1, 3, 5, 7, 9]\n[1, 3, 5, 7, 9]\n"
    }
   ],
   "source": [
    "#QUIT 5.2\n",
    "lst = [1, 2, 3, 4, 5, 6, 7, 8, 9, 10]\n",
    "final_lst1 = filter(lambda x : (x%2 != 0), lst)\n",
    "print(list(final_lst1))\n",
    "\n",
    "def twoDivied(x) :\n",
    "    if(x%2 != 0):\n",
    "        return x\n",
    "final_lst2 = filter(twoDivied, lst)\n",
    "print(list(final_lst2))"
   ]
  }
 ]
}