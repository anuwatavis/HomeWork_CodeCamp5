{
 "nbformat": 4,
 "nbformat_minor": 2,
 "metadata": {
  "language_info": {
   "name": "python",
   "codemirror_mode": {
    "name": "ipython",
    "version": 3
   },
   "version": "3.7.4-final"
  },
  "orig_nbformat": 2,
  "file_extension": ".py",
  "mimetype": "text/x-python",
  "name": "python",
  "npconvert_exporter": "python",
  "pygments_lexer": "ipython3",
  "version": 3,
  "kernelspec": {
   "name": "python3",
   "display_name": "Python 3"
  }
 },
 "cells": [
  {
   "cell_type": "code",
   "execution_count": 48,
   "metadata": {},
   "outputs": [
    {
     "data": {
      "text/plain": "[[[1, 3], [3, 4]], [5, [5, 6], [7, 8]]]"
     },
     "execution_count": 48,
     "metadata": {},
     "output_type": "execute_result"
    }
   ],
   "source": [
    "#Quiz 4.1\n",
    "a = [[[1,3], [3,4]], [5, [5,6],[7,8]]]\n",
    "a[1][1][1]\n",
    "a"
   ]
  },
  {
   "cell_type": "code",
   "execution_count": 49,
   "metadata": {},
   "outputs": [
    {
     "data": {
      "text/plain": "[['Anuwat', 'Sukthong', 20],\n ['Watanu', 'Thongsuk', 34],\n ['Peter', 'Parker', 25],\n ['Harry', 'Potter', 42]]"
     },
     "execution_count": 49,
     "metadata": {},
     "output_type": "execute_result"
    }
   ],
   "source": [
    "#Quiz 4.2\n",
    "name = [['Anuwat', 'Sukthong', 20], ['Watanu', 'Thongsuk', 34], ['Peter', 'Parker', 25], ['Harry','Potter', 42]]\n",
    "name"
   ]
  },
  {
   "cell_type": "code",
   "execution_count": 50,
   "metadata": {},
   "outputs": [
    {
     "data": {
      "text/plain": "[['Anuwat', 'Sukthong', 20],\n ['Watanu', 'Thongsuk', 34],\n ['Peter', 'Parker', 25]]"
     },
     "execution_count": 50,
     "metadata": {},
     "output_type": "execute_result"
    }
   ],
   "source": [
    "#Quiz 4.3\n",
    "del name[3]\n",
    "name"
   ]
  },
  {
   "cell_type": "code",
   "execution_count": 51,
   "metadata": {},
   "outputs": [
    {
     "data": {
      "text/plain": "[['Ball', 'Anuwat', 24],\n ['Anuwat', 'Sukthong', 20],\n ['Watanu', 'Thongsuk', 34],\n ['Peter', 'Parker', 25]]"
     },
     "execution_count": 51,
     "metadata": {},
     "output_type": "execute_result"
    }
   ],
   "source": [
    "#Quiz 4.4\n",
    "name.insert(0, ['Ball', 'Anuwat', 24]);\n",
    "name"
   ]
  },
  {
   "cell_type": "code",
   "execution_count": 52,
   "metadata": {},
   "outputs": [
    {
     "data": {
      "text/plain": "[['Ball', 'Anuwat', 24],\n ['Anuwat', 'Sukthong', 20],\n ['Watanu', 'Thongsuk', 44],\n ['Peter', 'Parker', 25]]"
     },
     "execution_count": 52,
     "metadata": {},
     "output_type": "execute_result"
    }
   ],
   "source": [
    "name[2][2] = name[2][2] + 10\n",
    "name\n"
   ]
  }
 ]
}