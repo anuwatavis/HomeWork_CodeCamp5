{
 "nbformat": 4,
 "nbformat_minor": 2,
 "metadata": {
  "language_info": {
   "name": "python",
   "codemirror_mode": {
    "name": "ipython",
    "version": 3
   },
   "version": "3.7.4-final"
  },
  "orig_nbformat": 2,
  "file_extension": ".py",
  "mimetype": "text/x-python",
  "name": "python",
  "npconvert_exporter": "python",
  "pygments_lexer": "ipython3",
  "version": 3,
  "kernelspec": {
   "name": "python3",
   "display_name": "Python 3"
  }
 },
 "cells": [
  {
   "cell_type": "code",
   "execution_count": 1,
   "metadata": {},
   "outputs": [
    {
     "name": "stdout",
     "output_type": "stream",
     "text": "A\n"
    }
   ],
   "source": [
    "#Quiz 7\n",
    "score = 81\n",
    "if score > 80:\n",
    "    print('A')\n",
    "elif score > 70:\n",
    "    print('B')\n",
    "elif score > 60:\n",
    "    print('C')\n",
    "elif score > 50:\n",
    "    print('D')\n",
    "else :\n",
    "    print('F')"
   ]
  }
 ]
}