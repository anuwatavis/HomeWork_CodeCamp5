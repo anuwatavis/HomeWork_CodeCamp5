{
 "nbformat": 4,
 "nbformat_minor": 2,
 "metadata": {
  "language_info": {
   "name": "python",
   "codemirror_mode": {
    "name": "ipython",
    "version": 3
   },
   "version": "3.7.4-final"
  },
  "orig_nbformat": 2,
  "file_extension": ".py",
  "mimetype": "text/x-python",
  "name": "python",
  "npconvert_exporter": "python",
  "pygments_lexer": "ipython3",
  "version": 3,
  "kernelspec": {
   "name": "python3",
   "display_name": "Python 3"
  }
 },
 "cells": [
  {
   "cell_type": "code",
   "execution_count": 1,
   "metadata": {},
   "outputs": [
    {
     "name": "stdout",
     "output_type": "stream",
     "text": "3.0\n"
    }
   ],
   "source": [
    "#QUIT 2.1\n",
    "func_01 = lambda x : x/3\n",
    "print(func_01(9))"
   ]
  },
  {
   "cell_type": "code",
   "execution_count": 2,
   "metadata": {},
   "outputs": [
    {
     "name": "stdout",
     "output_type": "stream",
     "text": "5.5\n"
    }
   ],
   "source": [
    "#QUIT 2.2\n",
    "def average_01(x1,x2,x3,x4):\n",
    "    return (x1+x2+x3+x4)/4\n",
    "print(average_01(4, 5, 6, 7))"
   ]
  },
  {
   "cell_type": "code",
   "execution_count": 3,
   "metadata": {},
   "outputs": [
    {
     "name": "stdout",
     "output_type": "stream",
     "text": "5.0\n"
    }
   ],
   "source": [
    "#QUIT 2.3\n",
    "average_02 = (lambda x1, x2, x3 : (x1+x2+x3) / 3)(4, 5, 6)\n",
    "print(average_02)"
   ]
  }
 ]
}