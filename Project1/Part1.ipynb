{
 "cells": [
  {
   "cell_type": "markdown",
   "metadata": {},
   "source": [
    "# Project I : Grow-up but not Grow-old"
   ]
  },
  {
   "cell_type": "markdown",
   "metadata": {},
   "source": [
    "## Part 1: Basic Programming"
   ]
  },
  {
   "cell_type": "markdown",
   "metadata": {},
   "source": [
    "### 1. จงเขียนโปรแกรมรับค่า Input จากผู้ใช้ ถ้าผู้ใช้ใส่ 0.0 จึงจะสิ้นสุดโปรแกรม คำนวณหาค่าเฉลี่ยของเลขทั้งหมดที่ผู้ใช้ใส่     และปริ้นค่าเฉลี่ยคูณด้วยจำนวนครั้งที่ใส่ทั้งหมด \n"
   ]
  },
  {
   "cell_type": "code",
   "execution_count": 1,
   "metadata": {},
   "outputs": [
    {
     "name": "stdout",
     "output_type": "stream",
     "text": [
      "Please input number : (pressed 0 for exit):1\n",
      "Please input number : (pressed 0 for exit):2\n",
      "Please input number : (pressed 0 for exit):3\n",
      "Please input number : (pressed 0 for exit):4\n",
      "Please input number : (pressed 0 for exit):5\n",
      "Please input number : (pressed 0 for exit):6\n",
      "Please input number : (pressed 0 for exit):7\n",
      "Please input number : (pressed 0 for exit):8\n",
      "Please input number : (pressed 0 for exit):9\n",
      "Please input number : (pressed 0 for exit):10\n",
      "Please input number : (pressed 0 for exit):0\n",
      "ค่าเฉลี่ยเท่ากับ -->  5.5\n",
      "ค่าเฉลี่ยคูณด้วยจำนวนครั้งที่ใส่ทั้งหมด 10 ครั้งเท่ากับ --> 55.0 \n"
     ]
    }
   ],
   "source": [
    "input_number = []\n",
    "number = float(input(\"Please input number : (pressed 0 for exit):\"))\n",
    "input_number.append(number)\n",
    "while(number != 0):\n",
    "    number = float(input(\"Please input number : (pressed 0 for exit):\"))\n",
    "    input_number.append(number)\n",
    "input_number.pop()\n",
    "average = sum(input_number) / len(input_number)\n",
    "print(\"ค่าเฉลี่ยเท่ากับ --> \", average)\n",
    "print(\"ค่าเฉลี่ยคูณด้วยจำนวนครั้งที่ใส่ทั้งหมด {} ครั้งเท่ากับ --> {} \".format(len(input_number),average*len(input_number)))"
   ]
  },
  {
   "cell_type": "markdown",
   "metadata": {},
   "source": [
    "### 2. จงเขียนโปรแกรมให้ผู้ใช้ใส่เลข ขอบเขตล่าง และ ขอบเขตบน และคำนวณหาเลขจำนวนเฉพาะ (Prime Number) ที่อยู่ระหว่างขอบเขตล่างและขอบเขตบน"
   ]
  },
  {
   "cell_type": "code",
   "execution_count": 4,
   "metadata": {},
   "outputs": [
    {
     "name": "stdout",
     "output_type": "stream",
     "text": [
      "Please, input lower boundary : 1\n",
      "Please, input upper boundary : 10\n",
      "จำนวนเฉพาะระหว่าง 1 และ 10 ประกอบด้วย [2, 3, 5, 7]\n"
     ]
    }
   ],
   "source": [
    "lower_boundary  = int(input(\"Please, input lower boundary : \"))\n",
    "upper_boundary  = int(input(\"Please, input upper boundary : \"))\n",
    "prime_number = []\n",
    "for num in range(lower_boundary, upper_boundary):\n",
    "    if(num > 1):\n",
    "        for i in range(2, num):\n",
    "            if(num % i == 0):\n",
    "                break\n",
    "        else:\n",
    "            prime_number.append(num)\n",
    "print(\"จำนวนเฉพาะระหว่าง {} และ {} ประกอบด้วย {}\".format(lower_boundary, upper_boundary, prime_number))\n"
   ]
  },
  {
   "cell_type": "markdown",
   "metadata": {},
   "source": [
    "# Project 1 : Part 1 นายอนุวัตร สุขทอง"
   ]
  }
 ],
 "metadata": {
  "kernelspec": {
   "display_name": "Python 3",
   "language": "python",
   "name": "python3"
  },
  "language_info": {
   "codemirror_mode": {
    "name": "ipython",
    "version": 3
   },
   "file_extension": ".py",
   "mimetype": "text/x-python",
   "name": "python",
   "nbconvert_exporter": "python",
   "pygments_lexer": "ipython3",
   "version": "3.7.6"
  }
 },
 "nbformat": 4,
 "nbformat_minor": 4
}
