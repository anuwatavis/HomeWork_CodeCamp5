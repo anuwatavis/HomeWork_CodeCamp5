{
 "cells": [
  {
   "cell_type": "code",
   "execution_count": 1,
   "metadata": {},
   "outputs": [],
   "source": [
    "import numpy as np\n",
    "import random\n",
    "import time"
   ]
  },
  {
   "cell_type": "code",
   "execution_count": 31,
   "metadata": {},
   "outputs": [
    {
     "name": "stdout",
     "output_type": "stream",
     "text": [
      "0.0 millisecond\n",
      "0.9684562683105469 millisecond\n"
     ]
    }
   ],
   "source": [
    "#quiz3\n",
    "start_time = time.time()\n",
    "arr1 = ((np.random.rand(20) * 89) + 10) ** 2\n",
    "print(((time.time() - start_time)) * 1000 ,\"millisecond\"  )\n",
    "###quiz 4\n",
    "start_time = time.time()\n",
    "arr2 = [(random.random() * 89 + 10) ** 2 for i in range(20)]\n",
    "print(((time.time() - start_time)) * 1000 , \"millisecond\")"
   ]
  }
 ],
 "metadata": {
  "kernelspec": {
   "display_name": "Python 3",
   "language": "python",
   "name": "python3"
  },
  "language_info": {
   "codemirror_mode": {
    "name": "ipython",
    "version": 3
   },
   "file_extension": ".py",
   "mimetype": "text/x-python",
   "name": "python",
   "nbconvert_exporter": "python",
   "pygments_lexer": "ipython3",
   "version": "3.7.4"
  }
 },
 "nbformat": 4,
 "nbformat_minor": 2
}
