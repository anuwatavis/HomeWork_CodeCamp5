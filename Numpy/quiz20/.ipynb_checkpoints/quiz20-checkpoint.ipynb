{
 "cells": [
  {
   "cell_type": "code",
   "execution_count": 5,
   "metadata": {},
   "outputs": [],
   "source": [
    "import numpy as np"
   ]
  },
  {
   "cell_type": "code",
   "execution_count": 25,
   "metadata": {},
   "outputs": [
    {
     "name": "stdout",
     "output_type": "stream",
     "text": [
      "กรุณากรอกตัวเลขในช่วง 1 - 100 และไม่ซ้ำกัน : --> 10\n",
      "กรุณากรอกตัวเลขในช่วง 1 - 100 และไม่ซ้ำกัน : --> 20\n",
      "กรุณากรอกตัวเลขในช่วง 1 - 100 และไม่ซ้ำกัน : --> 30\n",
      "กรุณากรอกตัวเลขในช่วง 1 - 100 และไม่ซ้ำกัน : --> 40\n",
      "กรุณากรอกตัวเลขในช่วง 1 - 100 และไม่ซ้ำกัน : --> 50\n",
      "กรุณากรอกตัวเลขในช่วง 1 - 100 และไม่ซ้ำกัน : --> 50\n",
      "---- ตัวเลขต้องไม่ซ้ำกันกับ [10, 20, 30, 40, 50] ให้ใส่ตัวเลขใหม่ !!! \n",
      "กรุณากรอกตัวเลขในช่วง 1 - 100 และไม่ซ้ำกัน : --> 101\n",
      "---- กรุณากรอกตัวเลขในช่วง 1 - 100 ให้ใส่ตัวเลขใหม่ !!! \n",
      "กรุณากรอกตัวเลขในช่วง 1 - 100 และไม่ซ้ำกัน : --> 60\n",
      "กรุณากรอกตัวเลขในช่วง 1 - 100 และไม่ซ้ำกัน : --> 70\n",
      "กรุณากรอกตัวเลขในช่วง 1 - 100 และไม่ซ้ำกัน : --> 80\n",
      "กรุณากรอกตัวเลขในช่วง 1 - 100 และไม่ซ้ำกัน : --> 90\n",
      "[10, 20, 30, 40, 50, 60, 70, 80, 90]\n"
     ]
    }
   ],
   "source": [
    "lst_input = []\n",
    "while len(lst_input) < 9:\n",
    "    number = int(input(\"กรุณากรอกตัวเลขในช่วง 1 - 100 และไม่ซ้ำกัน : --> \"))\n",
    "    if number in lst_input:\n",
    "        print(\"---- ตัวเลขต้องไม่ซ้ำกันกับ {} ให้ใส่ตัวเลขใหม่ !!! \".format(lst_input))\n",
    "    elif number < 10 or number > 100:\n",
    "        print(\"---- กรุณากรอกตัวเลขในช่วง 1 - 100 ให้ใส่ตัวเลขใหม่ !!! \")\n",
    "    else:\n",
    "        lst_input.append(number)\n",
    "print(lst_input)"
   ]
  },
  {
   "cell_type": "code",
   "execution_count": 26,
   "metadata": {},
   "outputs": [
    {
     "data": {
      "text/plain": [
       "array([[10, 20, 30],\n",
       "       [40, 50, 60],\n",
       "       [70, 80, 90]])"
      ]
     },
     "execution_count": 26,
     "metadata": {},
     "output_type": "execute_result"
    }
   ],
   "source": [
    "arr = np.array(lst_input).reshape(3,3)\n",
    "arr"
   ]
  },
  {
   "cell_type": "code",
   "execution_count": 27,
   "metadata": {},
   "outputs": [
    {
     "data": {
      "text/plain": [
       "array([[10, 40, 70],\n",
       "       [20, 50, 80],\n",
       "       [30, 60, 90]])"
      ]
     },
     "execution_count": 27,
     "metadata": {},
     "output_type": "execute_result"
    }
   ],
   "source": [
    "arrT = arr.T\n",
    "arrT"
   ]
  },
  {
   "cell_type": "code",
   "execution_count": 28,
   "metadata": {},
   "outputs": [
    {
     "data": {
      "text/plain": [
       "90"
      ]
     },
     "execution_count": 28,
     "metadata": {},
     "output_type": "execute_result"
    }
   ],
   "source": [
    "arrT[2, 2]"
   ]
  }
 ],
 "metadata": {
  "kernelspec": {
   "display_name": "Python 3",
   "language": "python",
   "name": "python3"
  }
 },
 "nbformat": 4,
 "nbformat_minor": 2
}
