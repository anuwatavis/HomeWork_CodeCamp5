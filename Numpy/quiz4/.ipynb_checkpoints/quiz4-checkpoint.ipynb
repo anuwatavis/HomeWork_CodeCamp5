{
 "cells": [
  {
   "cell_type": "code",
   "execution_count": 4,
   "metadata": {},
   "outputs": [],
   "source": [
    "import random"
   ]
  },
  {
   "cell_type": "code",
   "execution_count": 6,
   "metadata": {},
   "outputs": [
    {
     "data": {
      "text/plain": [
       "0.12678285044391258"
      ]
     },
     "execution_count": 6,
     "metadata": {},
     "output_type": "execute_result"
    }
   ],
   "source": [
    "random.random()"
   ]
  },
  {
   "cell_type": "code",
   "execution_count": 7,
   "metadata": {},
   "outputs": [
    {
     "data": {
      "text/plain": [
       "[6334.620381369415,\n",
       " 8353.348524739602,\n",
       " 6808.420974802629,\n",
       " 1667.7076001371126,\n",
       " 2531.9592047171714,\n",
       " 8972.843366504898,\n",
       " 8449.613108102052,\n",
       " 3726.1350560588867,\n",
       " 366.79545028967624,\n",
       " 567.1870346588125,\n",
       " 204.53525910512556,\n",
       " 1582.7783069402788,\n",
       " 7925.335256355524,\n",
       " 1914.180117263985,\n",
       " 303.6932029327667,\n",
       " 2546.4339767505503,\n",
       " 9704.248078823419,\n",
       " 1771.6878254216028,\n",
       " 6720.520510963145,\n",
       " 7350.95690641908]"
      ]
     },
     "execution_count": 7,
     "metadata": {},
     "output_type": "execute_result"
    }
   ],
   "source": [
    "arr = [(random.random() * 89 + 10) ** 2 for i in range(20)]\n",
    "arr"
   ]
  },
  {
   "cell_type": "code",
   "execution_count": null,
   "metadata": {},
   "outputs": [],
   "source": []
  }
 ],
 "metadata": {
  "kernelspec": {
   "display_name": "Python 3",
   "language": "python",
   "name": "python3"
  },
  "language_info": {
   "codemirror_mode": {
    "name": "ipython",
    "version": 3
   },
   "file_extension": ".py",
   "mimetype": "text/x-python",
   "name": "python",
   "nbconvert_exporter": "python",
   "pygments_lexer": "ipython3",
   "version": "3.7.4"
  }
 },
 "nbformat": 4,
 "nbformat_minor": 2
}
