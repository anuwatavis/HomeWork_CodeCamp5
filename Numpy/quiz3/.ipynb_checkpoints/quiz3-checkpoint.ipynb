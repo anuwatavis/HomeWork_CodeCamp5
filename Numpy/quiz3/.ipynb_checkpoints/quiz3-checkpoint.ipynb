{
 "cells": [
  {
   "cell_type": "code",
   "execution_count": 1,
   "metadata": {},
   "outputs": [],
   "source": [
    "import numpy as np"
   ]
  },
  {
   "cell_type": "code",
   "execution_count": 24,
   "metadata": {},
   "outputs": [
    {
     "data": {
      "text/plain": [
       "array([17.51510549, 22.71738484, 73.57694542, 65.34633888, 33.49336102,\n",
       "       70.55647588, 77.71516162, 31.79271686, 39.13085689, 17.4747425 ,\n",
       "       97.65012417, 45.01014721, 89.46837227, 50.41401239, 91.48003981,\n",
       "       40.21957289, 38.12417583, 53.39316613, 10.32378864, 22.95913403])"
      ]
     },
     "execution_count": 24,
     "metadata": {},
     "output_type": "execute_result"
    }
   ],
   "source": [
    "arr = (np.random.rand(20) * 89) + 10\n",
    "arr"
   ]
  },
  {
   "cell_type": "code",
   "execution_count": 27,
   "metadata": {},
   "outputs": [
    {
     "data": {
      "text/plain": [
       "array([ 306.77892032,  516.07957375, 5413.56689798, 4270.14400437,\n",
       "       1121.80523212, 4978.2162889 , 6039.64634576, 1010.77684505,\n",
       "       1531.22396061,  305.36662559, 9535.54675135, 2025.9133518 ,\n",
       "       8004.58963669, 2541.57264529, 8368.59768391, 1617.61404327,\n",
       "       1453.45278275, 2850.83018892,  106.58061179,  527.1218355 ])"
      ]
     },
     "execution_count": 27,
     "metadata": {},
     "output_type": "execute_result"
    }
   ],
   "source": [
    "arr ** 2"
   ]
  },
  {
   "cell_type": "code",
   "execution_count": null,
   "metadata": {},
   "outputs": [],
   "source": []
  }
 ],
 "metadata": {
  "kernelspec": {
   "display_name": "Python 3",
   "language": "python",
   "name": "python3"
  },
  "language_info": {
   "codemirror_mode": {
    "name": "ipython",
    "version": 3
   },
   "file_extension": ".py",
   "mimetype": "text/x-python",
   "name": "python",
   "nbconvert_exporter": "python",
   "pygments_lexer": "ipython3",
   "version": "3.7.4"
  }
 },
 "nbformat": 4,
 "nbformat_minor": 2
}
