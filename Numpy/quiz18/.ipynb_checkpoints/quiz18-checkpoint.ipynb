{
 "cells": [
  {
   "cell_type": "code",
   "execution_count": 1,
   "metadata": {},
   "outputs": [],
   "source": [
    "import numpy as np"
   ]
  },
  {
   "cell_type": "code",
   "execution_count": 8,
   "metadata": {},
   "outputs": [
    {
     "data": {
      "text/plain": [
       "array([[74, 90, 85, 16, 64],\n",
       "       [37, 81, 26, 16, 12],\n",
       "       [86, 56, 20, 51, 25],\n",
       "       [75, 11, 49, 70, 35],\n",
       "       [63, 30, 34, 46, 30]])"
      ]
     },
     "execution_count": 8,
     "metadata": {},
     "output_type": "execute_result"
    }
   ],
   "source": [
    "arr = np.random.randint(10, 100, 25).reshape(5,5)\n",
    "arr"
   ]
  },
  {
   "cell_type": "code",
   "execution_count": 18,
   "metadata": {},
   "outputs": [
    {
     "name": "stdout",
     "output_type": "stream",
     "text": [
      "arr(0,0) = 74 more than 50\n",
      "arr(0,1) = 90 more than 50\n",
      "arr(0,2) = 85 more than 50\n",
      "arr(0,4) = 64 more than 50\n",
      "arr(1,1) = 81 more than 50\n",
      "arr(2,0) = 86 more than 50\n",
      "arr(2,1) = 56 more than 50\n",
      "arr(2,3) = 51 more than 50\n",
      "arr(3,0) = 75 more than 50\n",
      "arr(3,3) = 70 more than 50\n",
      "arr(4,0) = 63 more than 50\n"
     ]
    }
   ],
   "source": [
    "for i in range(len(arr)):\n",
    "    for j in range(len(arr)):\n",
    "        if arr[i][j] > 50:\n",
    "            print(\"arr({},{}) = {} more than 50\".format(i, j,arr[i][j]))\n"
   ]
  }
 ],
 "metadata": {
  "kernelspec": {
   "display_name": "Python 3",
   "language": "python",
   "name": "python3"
  },
  "language_info": {
   "codemirror_mode": {
    "name": "ipython",
    "version": 3
   },
   "file_extension": ".py",
   "mimetype": "text/x-python",
   "name": "python",
   "nbconvert_exporter": "python",
   "pygments_lexer": "ipython3",
   "version": "3.7.4"
  }
 },
 "nbformat": 4,
 "nbformat_minor": 2
}
